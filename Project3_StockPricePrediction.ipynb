{
  "nbformat": 4,
  "nbformat_minor": 0,
  "metadata": {
    "colab": {
      "name": "Project3_StockPricePrediction",
      "provenance": []
    },
    "kernelspec": {
      "name": "python3",
      "display_name": "Python 3"
    },
    "language_info": {
      "name": "python"
    }
  },
  "cells": [
    {
      "cell_type": "code",
      "execution_count": 1,
      "metadata": {
        "id": "Su44OiaYDndI"
      },
      "outputs": [],
      "source": [
        "import pandas as pd\n",
        "import numpy as np\n",
        "import matplotlib.pyplot as plt"
      ]
    },
    {
      "cell_type": "code",
      "source": [
        "df = pd.read_csv(\"Download Data - STOCK_US_XNAS_NFLX.csv\")"
      ],
      "metadata": {
        "id": "Qy6uh6fgDtuZ"
      },
      "execution_count": 2,
      "outputs": []
    },
    {
      "cell_type": "code",
      "source": [
        "df = df[['Close']]\n",
        "df"
      ],
      "metadata": {
        "id": "yMsCX_i9D6zr"
      },
      "execution_count": null,
      "outputs": []
    },
    {
      "cell_type": "code",
      "source": [
        "future_days = 5\n",
        "df['Prediction'] = df[['Close']].shift(-future_days)\n",
        "df"
      ],
      "metadata": {
        "id": "md9ds4lGEbne"
      },
      "execution_count": null,
      "outputs": []
    },
    {
      "cell_type": "code",
      "source": [
        "X = np.array(df.drop(['Prediction'],1))[:-future_days]\n",
        "print(X)"
      ],
      "metadata": {
        "id": "5FDsVKwdD7BK"
      },
      "execution_count": null,
      "outputs": []
    },
    {
      "cell_type": "code",
      "source": [
        "y = np.array(df['Prediction'])[:-future_days]\n",
        "print(y)"
      ],
      "metadata": {
        "id": "R6-UU8nrFrad"
      },
      "execution_count": null,
      "outputs": []
    },
    {
      "cell_type": "code",
      "source": [
        "from sklearn.model_selection import train_test_split\n",
        "X_train, X_test, y_train, y_test = train_test_split(X,y,test_size = 0.25, random_state = 0)\n"
      ],
      "metadata": {
        "id": "fXkjjUTtGmHa"
      },
      "execution_count": 13,
      "outputs": []
    },
    {
      "cell_type": "code",
      "source": [
        "from sklearn.tree import DecisionTreeRegressor\n",
        "dr = DecisionTreeRegressor()\n",
        "dr.fit(X_train, y_train)"
      ],
      "metadata": {
        "colab": {
          "base_uri": "https://localhost:8080/"
        },
        "id": "GWnmCwZwHGWh",
        "outputId": "e5d2073b-df19-4c84-aa54-879b7a7909af"
      },
      "execution_count": 14,
      "outputs": [
        {
          "output_type": "execute_result",
          "data": {
            "text/plain": [
              "DecisionTreeRegressor()"
            ]
          },
          "metadata": {},
          "execution_count": 14
        }
      ]
    },
    {
      "cell_type": "code",
      "source": [
        "X_future = df.drop(['Prediction'],1)[:-future_days]\n",
        "X_future = X_future.tail(future_days)\n",
        "X_future = np.array(X_future)"
      ],
      "metadata": {
        "id": "AUul3LplKFco"
      },
      "execution_count": null,
      "outputs": []
    },
    {
      "cell_type": "code",
      "source": [
        "tree_prediction = dr.predict(X_future)\n",
        "print(tree_prediction)"
      ],
      "metadata": {
        "colab": {
          "base_uri": "https://localhost:8080/"
        },
        "id": "upagRtfzKj51",
        "outputId": "1affaf61-6a75-4c97-be1e-20181ff084c3"
      },
      "execution_count": 16,
      "outputs": [
        {
          "output_type": "stream",
          "name": "stdout",
          "text": [
            "[189.14 190.85 189.27 178.89 170.91]\n"
          ]
        }
      ]
    },
    {
      "cell_type": "code",
      "source": [
        ""
      ],
      "metadata": {
        "id": "QLqGh-CYK4Cj"
      },
      "execution_count": null,
      "outputs": []
    }
  ]
}